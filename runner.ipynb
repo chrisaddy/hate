{
 "cells": [
  {
   "cell_type": "code",
   "execution_count": 68,
   "id": "6c32fb58",
   "metadata": {},
   "outputs": [
    {
     "name": "stdout",
     "output_type": "stream",
     "text": [
      "The autoreload extension is already loaded. To reload it, use:\n",
      "  %reload_ext autoreload\n"
     ]
    }
   ],
   "source": [
    "%load_ext autoreload\n",
    "%autoreload 2"
   ]
  },
  {
   "cell_type": "code",
   "execution_count": 124,
   "id": "e563519a",
   "metadata": {},
   "outputs": [],
   "source": [
    "from IPython.display import Image\n",
    "\n",
    "from hamilton import base, driver\n",
    "import hate.fbi"
   ]
  },
  {
   "cell_type": "code",
   "execution_count": 125,
   "id": "8ba2ca2d",
   "metadata": {},
   "outputs": [],
   "source": [
    "dag = driver.Driver(\n",
    "    {\n",
    "        \"fbi_96_path\": \"hate96.pdf\"\n",
    "    },\n",
    "    hate.fbi,\n",
    "    adapter=base.SimplePythonGraphAdapter(base.DictResult()),\n",
    ")\n",
    "\n",
    "output_columns = [\n",
    "    \"number_of_agencies_by_population_group_96\"\n",
    "]"
   ]
  },
  {
   "cell_type": "code",
   "execution_count": 126,
   "id": "eb9fc4a9",
   "metadata": {},
   "outputs": [
    {
     "data": {
      "image/png": "[encoded data removed]",
      "text/plain": [
       "<IPython.core.display.Image object>"
      ]
     },
     "execution_count": 126,
     "metadata": {},
     "output_type": "execute_result"
    }
   ],
   "source": [
    "dag.visualize_execution(\n",
    "    output_columns,\n",
    "    \"dag\",\n",
    "    {\"format\": \"png\", \"view\": False} # turns the popup off so we can display it inline instead\n",
    ")\n",
    "Image(\"dag.png\")"
   ]
  },
  {
   "cell_type": "code",
   "execution_count": 129,
   "id": "5c42f2c9",
   "metadata": {},
   "outputs": [
    {
     "data": {
      "text/plain": [
       "{'number_of_agencies_by_population_group_96':                       population_group  participating_agencies  \\\n",
       " 1    Group I (Cities 250,000 and over)                      59   \n",
       " 2  Group II (Cities 100,000 - 249,999)                     134   \n",
       " 3   Group III (Cities 50,000 - 99,999)                     345   \n",
       " 4    Group IV (Cities 25,000 - 49,999)                     642   \n",
       " 5     Group V (Cities 10,000 - 24,999)                    1509   \n",
       " 6      Group VI1 (Cities under 10,000)                    5659   \n",
       " 7                   Suburban Counties2                    1057   \n",
       " 8                      Rural Counties2                    1949   \n",
       " 9                                Total                   11354   \n",
       " \n",
       "    population_covered  \n",
       " 1            43725403  \n",
       " 2            19555831  \n",
       " 3            23577549  \n",
       " 4            22229215  \n",
       " 5            23723583  \n",
       " 6            19758203  \n",
       " 7            48308234  \n",
       " 8            22468684  \n",
       " 9           223346702  }"
      ]
     },
     "execution_count": 129,
     "metadata": {},
     "output_type": "execute_result"
    }
   ],
   "source": [
    "dag.execute(output_columns)"
   ]
  },
  {
   "cell_type": "code",
   "execution_count": null,
   "id": "eea5c648",
   "metadata": {},
   "outputs": [],
   "source": []
  },
  {
   "cell_type": "code",
   "execution_count": null,
   "id": "6c112033",
   "metadata": {},
   "outputs": [],
   "source": []
  }
 ],
 "metadata": {
  "kernelspec": {
   "display_name": "Python 3 (ipykernel)",
   "language": "python",
   "name": "python3"
  },
  "language_info": {
   "codemirror_mode": {
    "name": "ipython",
    "version": 3
   },
   "file_extension": ".py",
   "mimetype": "text/x-python",
   "name": "python",
   "nbconvert_exporter": "python",
   "pygments_lexer": "ipython3",
   "version": "3.10.4"
  }
 },
 "nbformat": 4,
 "nbformat_minor": 5
}
